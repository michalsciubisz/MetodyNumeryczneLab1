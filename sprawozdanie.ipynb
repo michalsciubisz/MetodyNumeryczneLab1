{
 "cells": [
  {
   "cell_type": "markdown",
   "metadata": {
    "slideshow": {
     "slide_type": "notes"
    }
   },
   "source": [
    "# <center>Laboratorium 1<br>Metody Numeryczne</center>"
   ]
  },
  {
   "cell_type": "markdown",
   "metadata": {},
   "source": [
    "Biblioteki niezbędne do wykonania zadania:\n",
    "\n",
    "(wykonanie tego bloku zapewnia do nich dostęp w kolejnych blokach)"
   ]
  },
  {
   "cell_type": "code",
   "execution_count": 1,
   "metadata": {},
   "outputs": [],
   "source": [
    "import main\n",
    "import numpy as np\n",
    "import scipy\n",
    "import pandas as pd"
   ]
  },
  {
   "cell_type": "markdown",
   "metadata": {},
   "source": [
    "Przydatne w trakcie zajęć mogą okazać się metody macierzy z pakietu Numpy, takie jak na przykład długość wektora - *[len]()* czy rozmiar macierzy -\n",
    "*[shape](https://docs.scipy.org/doc/numpy/reference/generated/numpy.ndarray.shape.html#numpy.ndarray.shape)*. Poniższy kod ilustruje ich podstawowe działanie. Dodatkowe metody obiektu $ndarray$ można znaleźć w oficjalnej *[dokumentacji](https://docs.scipy.org/doc/numpy/reference/arrays.ndarray.html)*."
   ]
  },
  {
   "cell_type": "code",
   "execution_count": 2,
   "metadata": {
    "tags": []
   },
   "outputs": [
    {
     "name": "stdout",
     "output_type": "stream",
     "text": [
      "Wektor:\n",
      "[1 2 3]\n",
      "Długość: 3\n",
      "Rozmiar: (3,) \n",
      "\n",
      "Macierz:\n",
      "[[1 2 3]\n",
      " [4 5 6]\n",
      " [7 8 9]]\n",
      "Rozmiar: (3, 3)\n"
     ]
    }
   ],
   "source": [
    "vector = np.array([1, 2, 3])\n",
    "print('Wektor:')\n",
    "print(vector)\n",
    "print('Długość:', len(vector))\n",
    "print('Rozmiar:', vector.shape, '\\n')\n",
    "\n",
    "matrix = np.array([[1, 2, 3], [4, 5, 6], [7, 8, 9]])\n",
    "print('Macierz:')\n",
    "print(matrix)\n",
    "print('Rozmiar:', matrix.shape)\n"
   ]
  },
  {
   "cell_type": "markdown",
   "metadata": {},
   "source": [
    "***Zadanie 1.***  \n",
    "Zaimplementuj funkcję $cylinder\\_area$ tak by zwracała pole powierzchni walca o promieniu podstawy $r$ i wysokości $h$. Stała $\\pi$ jest zdefiniowana np. w bibliotece *[math](https://docs.python.org/3/library/math.html#constants)*. Jeżeli nie da się policzyć pola funkcja powinna zwracać wartość *NaN*. Sprawdź działanie zaimplementowanej funkcji dla dowolnych wartości w tym notatniku."
   ]
  },
  {
   "cell_type": "code",
   "execution_count": 3,
   "metadata": {},
   "outputs": [
    {
     "name": "stdout",
     "output_type": "stream",
     "text": [
      "369.6177313577616\n",
      "nan\n",
      "nan\n",
      "nan\n"
     ]
    }
   ],
   "source": [
    "print(main.cylinder_area(5.567,5))\n",
    "print(main.cylinder_area(-1,5))\n",
    "print(main.cylinder_area(5,-3))\n",
    "print(main.cylinder_area(-5,-4))\n",
    "#sprawdzenie działania funkcji poprzez wywołanie każdej możliwej konfiguracji"
   ]
  },
  {
   "cell_type": "markdown",
   "metadata": {},
   "source": [
    "***Zadanie 2.***  \n",
    "Wygeneruj dowolne ciągi arytmetyczny o kroku różnym od jeden i niebędącym liczbą całkowitą, używając w tym celu funkcji *[arange](https://docs.scipy.org/doc/numpy/reference/generated/numpy.arange.html)* oraz *[linspace](https://docs.scipy.org/doc/numpy-1.10.0/reference/generated/numpy.linspace.html)*. Wypisz go i przeanalizuj otrzymane rezultaty."
   ]
  },
  {
   "cell_type": "code",
   "execution_count": 4,
   "metadata": {},
   "outputs": [
    {
     "name": "stdout",
     "output_type": "stream",
     "text": [
      "[ 1.   2.5  4.   5.5  7.   8.5 10.  11.5]\n",
      "[ 1.   2.5  4.   5.5  7.   8.5 10.  11.5 13. ]\n",
      "[ 5.         11.66666667 18.33333333 25.        ]\n"
     ]
    },
    {
     "data": {
      "text/plain": [
       "'\\nw podanych powyzej przykladach zostaly zastosowane dwie funkcje, arange ktora w tym przypadku tworzy wektor z zakresu 1-14, oraz posiada zadeklarowany skok o 1.5, linspace z drugiej strony\\ndziała zupełnie inaczej ponieważ tak jak arange ma zadeklarowany zakres 5-25 jednak w przypadku tej funkcji wybieramy liczbe elementow ktore ma zawierac wektor, wtedy do niej dostowany jest skok\\npomiedzy poszczegolnymi wyrazami, warto dodać że w przypadku arange wykorzystywany jest gotowy skok, przez co moze nie zostac w pelni wykorzystany zakres zadeklarowanych elementow co widac\\nna drugim przykladzie, ponad to przedział z ktorego wybierane sa elementy jest lewostronnie zamkniety i prawostronnie otwarty\\n'"
      ]
     },
     "execution_count": 4,
     "metadata": {},
     "output_type": "execute_result"
    }
   ],
   "source": [
    "print(np.arange(1,13,1.5))\n",
    "print(np.arange(1,14,1.5))\n",
    "print(np.linspace(5,25,4))\n",
    "\"\"\"\n",
    "w podanych powyzej przykladach zostaly zastosowane dwie funkcje, arange ktora w tym przypadku tworzy wektor z zakresu 1-14, oraz posiada zadeklarowany skok o 1.5, linspace z drugiej strony\n",
    "działa zupełnie inaczej ponieważ tak jak arange ma zadeklarowany zakres 5-25 jednak w przypadku tej funkcji wybieramy liczbe elementow ktore ma zawierac wektor, wtedy do niej dostowany jest skok\n",
    "pomiedzy poszczegolnymi wyrazami, warto dodać że w przypadku arange wykorzystywany jest gotowy skok, przez co moze nie zostac w pelni wykorzystany zakres zadeklarowanych elementow co widac\n",
    "na drugim przykladzie, ponad to przedział z ktorego wybierane sa elementy jest lewostronnie zamkniety i prawostronnie otwarty\n",
    "\"\"\""
   ]
  },
  {
   "cell_type": "markdown",
   "metadata": {},
   "source": [
    "***Zadanie 3.***  \n",
    "Zaimplementuj funkcję $fib$ zwracającą wektor pierszych n elementów *[ciągu Fibonnaciego](https://pl.wikipedia.org/wiki/Ci%C4%85g_Fibonacciego)*, jeżeli nie jest to możliwe funkcja powinna zwrócić wartość *None*."
   ]
  },
  {
   "cell_type": "code",
   "execution_count": 5,
   "metadata": {},
   "outputs": [
    {
     "name": "stdout",
     "output_type": "stream",
     "text": [
      "[0 1 1 2 3]\n",
      "None\n",
      "[0 1]\n",
      "[0]\n"
     ]
    }
   ],
   "source": [
    "print(main.fib(4))\n",
    "print(main.fib(-5))\n",
    "print(main.fib(1))\n",
    "print(main.fib(0))\n",
    "#sprawdzenie działania funkcji dla kazdej konfiguracji mogacej sprawic problemy w dzialaniu programu"
   ]
  },
  {
   "cell_type": "markdown",
   "metadata": {},
   "source": [
    "***Zadanie 4.***  \n",
    "Napisz funkję $matrix\\_calculations$ która jako argument przyjmuje dowolną wartość liczbową *a* i tworzy macierz:  \n",
    "  \n",
    "$\\mathbf{M} =\\left[ \\begin{matrix}\n",
    "a & 1 & -a\\\\\n",
    "0 & 1 & 1\\\\\n",
    "-a & a & 1\n",
    "\\end{matrix}\\right]\n",
    "$    \n",
    "   \n",
    "Dla zadeklarowanej macierzy wyznacz numerycznie macierz odwrotną $\\mathbf{Minv}$ (jeżeli nie istnieje taka macierz wartość wynosi NaN), macierz transponowaną $\\mathbf{Mt}$ i wyznacznik macierzy $\\mathbf{Mdet}$. Zwróć otrzymane wartości w postaci krotki postaci $(\\mathbf{Minv}, \\mathbf{Mt}, \\mathbf{Mdet})$.  Wypisz otrzymane wyniki. \n",
    "  \n",
    "***Wskazówki:*** Do tworzenia obiektów mających własności macierzy w języku Python używa się klasy *[array](https://docs.scipy.org/doc/numpy-1.15.1/reference/generated/numpy.array.html)* z pakietu *[numpy](http://www.numpy.org/)*, przykładowe użycie:"
   ]
  },
  {
   "cell_type": "code",
   "execution_count": 6,
   "metadata": {
    "scrolled": true,
    "tags": []
   },
   "outputs": [
    {
     "name": "stdout",
     "output_type": "stream",
     "text": [
      "Wektor poziomy:\n",
      " [1 2 3]\n",
      "Wektor pionowy:\n",
      " [[1]\n",
      " [2]\n",
      " [3]]\n",
      "Macierz:\n",
      " [[1 2]\n",
      " [3 4]]\n"
     ]
    }
   ],
   "source": [
    "import numpy as np # słowo kluczowe \"as\" oznacza przesłania nazwę numpy i pozwala  \n",
    "a = np.array([1, 2, 3])\n",
    "b = np.array([[1], [2], [3]])\n",
    "A = np.array([[1,2],[3,4]])\n",
    "print(\"Wektor poziomy:\\n {0}\".format(a))\n",
    "print(\"Wektor pionowy:\\n {0}\".format(b))\n",
    "print(\"Macierz:\\n {0}\".format(A))"
   ]
  },
  {
   "cell_type": "markdown",
   "metadata": {},
   "source": [
    "Do wykonania operacji odwracania macierzy należy użyć funkcji *[inv](https://docs.scipy.org/doc/numpy/reference/generated/numpy.linalg.inv.html)*, do obliczenia wyznacznika macierzy stosuje się funkcję *[det](https://docs.scipy.org/doc/numpy-1.15.0/reference/generated/numpy.linalg.det.html)*  z bliblioteki *[linalg](https://docs.scipy.org/doc/numpy/reference/routines.linalg.html)*. Natomiast transpozycję macierzy wykonujemy przez funkcję *[transpose](https://docs.scipy.org/doc/numpy-1.14.0/reference/generated/numpy.transpose.html)* której skrucona wersja to $M.T$ z pakietu *numpy*.  \n",
    "    \n",
    "*Ciekawostka:* Python natywnie nie zawiera struktury danych typu tablica, na poziomie języka jest to rozwiązane poprzez strukturę listy list do której elementów odwołuje się poprzez indeksy jak w C/C++."
   ]
  },
  {
   "cell_type": "code",
   "execution_count": 7,
   "metadata": {},
   "outputs": [
    {
     "name": "stdout",
     "output_type": "stream",
     "text": [
      "(array([[ 0.11111111,  0.55555556, -0.22222222],\n",
      "       [ 0.16666667,  0.33333333,  0.16666667],\n",
      "       [-0.16666667,  0.66666667, -0.16666667]]), array([[ 3,  0, -3],\n",
      "       [ 1,  1,  3],\n",
      "       [-3,  1,  1]]), -17.999999999999996)\n",
      "(array([[ 0. ,  1. , -1. ],\n",
      "       [ 0.5,  0. ,  0.5],\n",
      "       [-0.5,  1. , -0.5]]), array([[ 1,  0, -1],\n",
      "       [ 1,  1,  1],\n",
      "       [-1,  1,  1]]), -2.0)\n",
      "nan\n"
     ]
    }
   ],
   "source": [
    "print(main.matrix_calculations(3))\n",
    "print(main.matrix_calculations(1))\n",
    "print(main.matrix_calculations(0))\n",
    "#wywołanie funkcji dla przykładowych wartości, ponad to dla 0 wyznacznik macierzy jest rowny zero, przez co tym wywolaniem sprawdzamy zabezpieczenie przeciw tworzeniu macierzy odwrotnej dla\n",
    "#macierzy, ktora nie powinna posiadac macierzy odwrotnej"
   ]
  },
  {
   "cell_type": "markdown",
   "metadata": {},
   "source": [
    "***Zadanie 5.***  \n",
    "Stwórz w notatniku macierz:  \n",
    "$\\mathbf{M} =\\left[ \\begin{matrix}\n",
    "3 & 1 & -2 & 4\\\\\n",
    "0 & 1 & 1 & 5\\\\\n",
    "-2 & 1 & 1 & 6\\\\\n",
    "4 & 3 & 0 & 1\\\\\n",
    "\\end{matrix}\\right]\n",
    "$   \n",
    "Wypisz przy pomocy funkcji *print* następujące elementy macierzy $\\mathbf{M}$: $\\mathbf{M}_{1,1},\\mathbf{M}_{3,3},\\mathbf{M}_{3,2}$. Zdefiniuj wektor $\\mathbf{w1}$ którego elementy to trzecia kolumna macierzy $\\mathbf{M}$ oraz wektor $\\mathbf{w2}$ który składa się z drugiego wiersza tej macierzy.  \n",
    "  \n",
    "***Wskazówki:***\n",
    "Tablice z pakietu *numpy* są indeksowane od zera a do każdego elementu można odwołać się poprzez jego indeks. Przykład użycie\n"
   ]
  },
  {
   "cell_type": "code",
   "execution_count": 8,
   "metadata": {
    "tags": []
   },
   "outputs": [
    {
     "name": "stdout",
     "output_type": "stream",
     "text": [
      "Macierz P=\n",
      "[[1 3 2]\n",
      " [3 4 6]\n",
      " [7 8 9]]\n",
      "Elementy trzeciej kolumny:\n",
      " [2 6 9]\n",
      "Elementy trzeciego wiersza:\n",
      " [7 8 9]\n"
     ]
    }
   ],
   "source": [
    "# Inicjalizacja macierzy do przykładu\n",
    "P = np.array([[1,3,2],[3,4, 6],[7,8,9]])\n",
    "print(\"Macierz P=\\n{0}\".format(P))\n",
    "# wyciągnięcie trzeciej kolumny \n",
    "wektor1 = P[:,2]\n",
    "# wyciągnięcie trzeciego wiersza \n",
    "wektor2 = P[2,:]\n",
    "print(\"Elementy trzeciej kolumny:\\n {0}\".format(wektor1))\n",
    "print(\"Elementy trzeciego wiersza:\\n {0}\".format(wektor2))"
   ]
  },
  {
   "cell_type": "code",
   "execution_count": 9,
   "metadata": {},
   "outputs": [
    {
     "name": "stdout",
     "output_type": "stream",
     "text": [
      "Punkt o współrzędnych (1,1):  3\n",
      "Punkt o współrzędnych (3,3):  1\n",
      "Punkt o współrzędnych (3,2):  1\n",
      "Elementy trzeciej kolumny:  [-2  1  1  0]\n",
      "Elementy drugiego wiersza: [0 1 1 5]\n"
     ]
    }
   ],
   "source": [
    "M = np.array([[3,1,-2,4],[0,1,1,5],[-2,1,1,6],[4,3,0,1]])\n",
    "M11 = M[0,0]\n",
    "M33 = M[2,2]\n",
    "M32 = M[2,1]\n",
    "print(\"Punkt o współrzędnych (1,1): \", M11)\n",
    "print(\"Punkt o współrzędnych (3,3): \", M33)\n",
    "print(\"Punkt o współrzędnych (3,2): \", M32)\n",
    "wektor1 = M[:,2]\n",
    "wektor2 = M[1,:]\n",
    "print(\"Elementy trzeciej kolumny: \", wektor1)\n",
    "print(\"Elementy drugiego wiersza:\", wektor2 )\n",
    "#w przypadku tworzenia macierzy zamiast stosować np.array mozna uzyc komendy np.matrix ktora w tym przypadku uzyska ten sam efekt, majac na uwadze wskazowki z wczesniej podanego przykladu,\n",
    "#wypisanie poszczegolnych punktow macierzy, wekotorow poziomych i kolumnowych jest bardzo szybkie"
   ]
  },
  {
   "cell_type": "markdown",
   "metadata": {},
   "source": [
    "Dodatkowo twórcy biblioteki umożliwiają użytkownikowi na manipulację elementami tablicy poprzez operator ':', więcej szczegółów na temat jego użycia w artykule [NumPy for Matlab users](https://docs.scipy.org/doc/numpy/user/numpy-for-matlab-users.html#numpy-for-matlab-users)."
   ]
  },
  {
   "cell_type": "markdown",
   "metadata": {},
   "source": [
    "***Zadanie 6.***   \n",
    "Uzupełnij funkcję $custom\\_matrix$, tak by parametry m, n określały wymiary macierzy wynikowej, która\n",
    "będzie wypełniona w/g algorytmu: jeśli indeks wiersza jest większy od indeksu kolumny\n",
    "wartością komórki jest indeks wiersza, w przeciwnym wypadku wartością komórki jest indeks\n",
    "kolumny. Funkcja jako wynik powinna zwracać uzupełnioną macierz, jeżeli nie jest to możliwe to powinna zwrócić *None*. Na koniec wyświetlić wynikową macierz dla dowolnych argumentów $m$, $n$ z przedziału $\\langle3,7\\rangle$.\n",
    "  \n",
    "***Wskazówka:*** Inicjalizacja pustej macierz wykonywana jest w pakiecie Numpy przy pomocy funkcji  *[zeros](https://docs.scipy.org/doc/numpy-1.15.0/reference/generated/numpy.zeros.html)*, zaś macierzy składającej się z jedynek *[ones](https://docs.scipy.org/doc/numpy/reference/generated/numpy.ones.html)*."
   ]
  },
  {
   "cell_type": "code",
   "execution_count": 10,
   "metadata": {
    "tags": []
   },
   "outputs": [
    {
     "name": "stdout",
     "output_type": "stream",
     "text": [
      "zero_matrix: \n",
      "[[0. 0.]\n",
      " [0. 0.]]\n",
      "ones_matrix: \n",
      "[[1.]\n",
      " [1.]\n",
      " [1.]]\n"
     ]
    }
   ],
   "source": [
    "zero_matrix = np.zeros((2, 2))\n",
    "ones_matrix = np.ones((3,1))\n",
    "\n",
    "print('zero_matrix: \\n{}'.format(zero_matrix))\n",
    "print('ones_matrix: \\n{}'.format(ones_matrix))"
   ]
  },
  {
   "cell_type": "code",
   "execution_count": 12,
   "metadata": {},
   "outputs": [
    {
     "name": "stdout",
     "output_type": "stream",
     "text": [
      "[[1. 2. 3. 4. 5. 6.]\n",
      " [1. 2. 3. 4. 5. 6.]\n",
      " [1. 2. 3. 4. 5. 6.]\n",
      " [1. 2. 3. 4. 5. 6.]]\n",
      "[[1. 1. 1.]\n",
      " [2. 2. 2.]\n",
      " [3. 3. 3.]\n",
      " [4. 4. 4.]\n",
      " [5. 5. 5.]]\n",
      "[[1. 2. 3. 4.]\n",
      " [1. 2. 3. 4.]\n",
      " [1. 2. 3. 4.]\n",
      " [1. 2. 3. 4.]]\n",
      "None\n",
      "None\n",
      "None\n"
     ]
    }
   ],
   "source": [
    "print(main.custom_matrix(4,6))\n",
    "print(main.custom_matrix(5,3))\n",
    "print(main.custom_matrix(4,4))\n",
    "print(main.custom_matrix(-1,4))\n",
    "print(main.custom_matrix(-1,-2))\n",
    "print(main.custom_matrix(0,0))\n",
    "#sprawdzenie dzialania macierzy w kazdym przypadku, gdy m > n, m < n oraz m = n, w przypadku nieprawdilowych wartosci powinien zostac zwrocony None"
   ]
  },
  {
   "cell_type": "markdown",
   "metadata": {},
   "source": [
    "***Zadanie 7.***\n",
    "\n",
    "Biblioteka Numpy posiada własne metody, pozwalające na szybsze i wygotniejsze wykonywanie operacji na wektorach i macierzach. Kolejne zadania mają na celu przećwiczenie tych metod. Zamiast samemu implementować mnożenie macierzy, należy skorzystać właśnie z wbudowanych funkcji Numpy. Najbardzie podstawowe z nich to *[np.multiply](https://docs.scipy.org/doc/numpy-1.15.0/reference/generated/numpy.multiply.html)*, *[np.dot](https://docs.scipy.org/doc/numpy-1.15.0/reference/generated/numpy.dot.html)* oraz *[np.matmul](https://docs.scipy.org/doc/numpy-1.15.1/reference/generated/numpy.matmul.html)*. Przed wykonaniem zadania należy zapoznać się z ich dokumentacją, aby stosować poprawną funkcję do danego typu mnożenia. Dodatkowo ciekawą i użyteczną funkcjonalnością Numpy, wykorzystywaną niekiedy przy dodawaniu macierzy jest *broadcasting*, proszę o zapoznaie się z opisem:  *[[1]](https://docs.scipy.org/doc/numpy-1.15.0/user/basics.broadcasting.html)* *[[2]](https://www.tutorialspoint.com/numpy/numpy_broadcasting.htm)*.\n",
    "\n",
    "Zainicjalizować dwa wektory $v_1$ i $v_2$:\n",
    "\n",
    "$v_1 = \\begin{bmatrix}1\\\\3\\\\13\\end{bmatrix} \\quad v_2 = \\begin{bmatrix}8\\\\5\\\\-2\\end{bmatrix}$\n",
    "\n",
    "Następnie wykonać operacje i wypisać ich wynik:\n",
    "- $4*v_1$\n",
    "- $-v_2 + \\begin{bmatrix}2\\\\2\\\\2\\end{bmatrix}$\n",
    "- $v_1 \\circ v_2$ (w sensie mnożenia macierzy, tzw. mnożenie macierzy w sensie Cauchy’ego)\n",
    "- $v_1 * v_2$ (w sensie mnożenia Hadamarda (element-wise))\n",
    "\n",
    "***Wskazówki:*** Warto wiedzieć o *[np.dot](https://docs.scipy.org/doc/numpy-1.15.0/reference/generated/numpy.dot.html)* i *[np.multiply](https://docs.scipy.org/doc/numpy-1.15.0/reference/generated/numpy.multiply.html)*. Zbadać jak zachowuje się przeciążony operator mnożenia $*$ oraz $@$ dla macierzy $ndarray$."
   ]
  },
  {
   "cell_type": "code",
   "execution_count": null,
   "metadata": {},
   "outputs": [
    {
     "name": "stdout",
     "output_type": "stream",
     "text": [
      "[ 4 12 52]\n",
      "[-6 -3 14]\n",
      "-133\n",
      "[   8   15 -156]\n"
     ]
    },
    {
     "data": {
      "text/plain": [
       "'\\nw tym przypadku zarowno funkcje matmul jak i dot mozna stosowac wymiennie poniewaz w przypadku prostych wektorow i macierzy, zwracaja dokladnie to samo, jednak multiply dziala inaczej poniewaz\\nw przypadku mnozenia macierzy czy tez wektorow otrzymamy produkt wyjsciowy o tym samym wymiarze co pierwotny, w przypadku dzialan na wektorach stworzonych na bazie array i matrix mozna wykonywac\\npodstawowe operacje arytmetyczne\\n'"
      ]
     },
     "execution_count": 12,
     "metadata": {},
     "output_type": "execute_result"
    }
   ],
   "source": [
    "vector1 = np.array([1, 3, 13]).T\n",
    "vector2 = np.array([8, 5, -12]).T\n",
    "print(np.multiply(4, vector1))\n",
    "print(-vector2+np.array([2, 2, 2]).T)\n",
    "print(np.dot(vector1,vector2))\n",
    "print(np.multiply(vector1,vector2))\n",
    "\"\"\"\n",
    "w tym przypadku zarowno funkcje matmul jak i dot mozna stosowac wymiennie poniewaz w przypadku prostych wektorow i macierzy, zwracaja dokladnie to samo, jednak multiply dziala inaczej poniewaz\n",
    "w przypadku mnozenia macierzy czy tez wektorow otrzymamy produkt wyjsciowy o tym samym wymiarze co pierwotny, w przypadku dzialan na wektorach stworzonych na bazie array i matrix mozna wykonywac\n",
    "podstawowe operacje arytmetyczne\n",
    "\"\"\""
   ]
  },
  {
   "cell_type": "markdown",
   "metadata": {},
   "source": [
    "***Zadanie 8.***\n",
    "Zainicjalizować macierz $M_1$:\n",
    "\n",
    "$M_1 = \\begin{bmatrix}1&-7&3\\\\-12&3&4\\\\5&13&-3\\end{bmatrix}$\n",
    "\n",
    "Następnie wykonać operacje i wypisać ich wynik:\n",
    "- $3M_1$\n",
    "- $3M_1 + \\begin{bmatrix}1&1&1\\\\1&1&1\\\\1&1&1\\end{bmatrix}$\n",
    "- $M_1^T$\n",
    "- $M_1 \\circ v_1$ \n",
    "- $v_2^T \\circ M_1$"
   ]
  },
  {
   "cell_type": "code",
   "execution_count": null,
   "metadata": {},
   "outputs": [
    {
     "name": "stdout",
     "output_type": "stream",
     "text": [
      "[[  3 -21   9]\n",
      " [-36   9  12]\n",
      " [ 15  39  -9]] \n",
      "\n",
      "[[  4 -20  10]\n",
      " [-35  10  13]\n",
      " [ 16  40  -8]] \n",
      "\n",
      "[[  1 -12   5]\n",
      " [ -7   3  13]\n",
      " [  3   4  -3]] \n",
      "\n",
      "[[  1 -21  39]\n",
      " [-12   9  52]\n",
      " [  5  39 -39]] \n",
      "\n",
      "[[  8 -35 -36]\n",
      " [-96  15 -48]\n",
      " [ 40  65  36]] \n",
      "\n"
     ]
    },
    {
     "data": {
      "text/plain": [
       "'\\nAnalogicznie jak w poprzednim zadaniu mozna bez problemow za pomoca wbudowanych funkcji wykonywac skomplikowanie jak i najprostsze operacje na macierzach i wektorach bez problemow\\n'"
      ]
     },
     "execution_count": 13,
     "metadata": {},
     "output_type": "execute_result"
    }
   ],
   "source": [
    "M1 = np.array([[1, -7, 3], [-12, 3, 4], [5, 13, -3]])\n",
    "print(3*M1, \"\\n\")\n",
    "print(3*M1 + np.array([[1, 1, 1], [1, 1, 1], [1, 1, 1]]), \"\\n\")\n",
    "print(M1.T, \"\\n\")\n",
    "print(np.multiply(M1, vector1), \"\\n\")\n",
    "print(np.multiply(vector2.T, M1), \"\\n\")\n",
    "\"\"\"\n",
    "Analogicznie jak w poprzednim zadaniu mozna bez problemow za pomoca wbudowanych funkcji wykonywac skomplikowanie jak i najprostsze operacje na macierzach i wektorach bez problemow\n",
    "\"\"\""
   ]
  },
  {
   "cell_type": "markdown",
   "metadata": {},
   "source": [
    "Podsumowujac, biblioteka numpy udostepniona wraz z dodatkowym oprogramowaniem Anaconda, jest bardzo bogatym rozszerzeniem dajacym wiele mozliwosci, dzialanie na macierzach, wektorach w normalny sposob wymagaja tworzenia bardzo trudnych funkcji, tak jak chocby w przypadku wyznaczania macierzy odwrotnej. Jednak ilosc funkcjonalnosci udostepnionych w ramach biblioteki numpy jest tak ogromna, ze pozwala to zaoszczedzic bardzo duzo czasu i korzystac z opracowanych juz algorytmow, przez co mozna skupic sie nie na ich implementacji, ale wykorzystaniu korzysci plynacych z otrzymanej funkcjonalnosci."
   ]
  },
  {
   "cell_type": "markdown",
   "metadata": {},
   "source": [
    "Materiały uzupełniające:\n",
    "- [Scipy Lecture Notes](http://www.scipy-lectures.org/index.html)\n",
    "- [NumPy for Matlab users](https://docs.scipy.org/doc/numpy/user/numpy-for-matlab-users.html#numpy-for-matlab-users)\n",
    "- [Python Tutorial - W3Schools](https://www.w3schools.com/python/default.asp)\n",
    "- [NumPy](https://www.numpy.org)\n",
    "- [Matplotlib](https://matplotlib.org/)\n",
    "- [Anaconda](https://www.anaconda.com/)\n",
    "- [Learn Python for Data Science](https://www.datacamp.com/learn-python-with-anaconda?utm_source=Anaconda_download&utm_campaign=datacamp_training&utm_medium=banner)\n",
    "- [Learn Python](https://www.learnpython.org/)\n",
    "- [Wujek Google](https://google.pl) i [Ciocia Wikipedia](https://pl.wikipedia.org/wiki/Wikipedia:Strona_g%C5%82%C3%B3wna)"
   ]
  }
 ],
 "metadata": {
  "celltoolbar": "Raw Cell Format",
  "interpreter": {
   "hash": "711b72511d9d188ab5e69f8070b0f70f7670d8e1312e175445b64c3a18fa61df"
  },
  "kernelspec": {
   "display_name": "Python 3.8.8 64-bit ('base': conda)",
   "name": "python3"
  },
  "language_info": {
   "codemirror_mode": {
    "name": "ipython",
    "version": 3
   },
   "file_extension": ".py",
   "mimetype": "text/x-python",
   "name": "python",
   "nbconvert_exporter": "python",
   "pygments_lexer": "ipython3",
   "version": "3.8.8"
  }
 },
 "nbformat": 4,
 "nbformat_minor": 2
}
